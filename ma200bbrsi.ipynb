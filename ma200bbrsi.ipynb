{
  "nbformat": 4,
  "nbformat_minor": 0,
  "metadata": {
    "colab": {
      "provenance": [],
      "authorship_tag": "ABX9TyMc3YuiDPA23M0C4tVhvjeU",
      "include_colab_link": true
    },
    "kernelspec": {
      "name": "python3",
      "display_name": "Python 3"
    }
  },
  "cells": [
    {
      "cell_type": "markdown",
      "metadata": {
        "id": "view-in-github",
        "colab_type": "text"
      },
      "source": [
        "<a href=\"https://colab.research.google.com/github/atakhadivi/Algorithmic-Trading/blob/master/ma200bbrsi.ipynb\" target=\"_parent\"><img src=\"https://colab.research.google.com/assets/colab-badge.svg\" alt=\"Open In Colab\"/></a>"
      ]
    },
    {
      "cell_type": "code",
      "metadata": {
        "id": "XDto-iQlTw3_",
        "colab": {
          "base_uri": "https://localhost:8080/",
          "height": 564
        },
        "outputId": "84fe843d-0438-4e1f-aeaf-776d35d80262"
      },
      "source": [
        "# install everything we need to import\n",
        "!pip3 install -q python-binance\n",
        "!wget https://launchpad.net/~mario-mariomedina/+archive/ubuntu/talib/+files/libta-lib0_0.4.0-oneiric1_amd64.deb -qO libta.deb\n",
        "!wget https://launchpad.net/~mario-mariomedina/+archive/ubuntu/talib/+files/ta-lib0-dev_0.4.0-oneiric1_amd64.deb -qO ta.deb\n",
        "!dpkg -i libta.deb ta.deb\n",
        "!pip install ta-lib\n",
        "!pip3 install -q tinydb"
      ],
      "execution_count": null,
      "outputs": [
        {
          "output_type": "stream",
          "text": [
            "\u001b[K     |████████████████████████████████| 358kB 9.0MB/s \n",
            "\u001b[K     |████████████████████████████████| 61kB 5.1MB/s \n",
            "\u001b[K     |████████████████████████████████| 1.1MB 16.4MB/s \n",
            "\u001b[K     |████████████████████████████████| 2.7MB 36.8MB/s \n",
            "\u001b[K     |████████████████████████████████| 3.1MB 33.7MB/s \n",
            "\u001b[K     |████████████████████████████████| 61kB 4.2MB/s \n",
            "\u001b[K     |████████████████████████████████| 235kB 38.7MB/s \n",
            "\u001b[?25hSelecting previously unselected package libta-lib0.\n",
            "(Reading database ... 144467 files and directories currently installed.)\n",
            "Preparing to unpack libta.deb ...\n",
            "Unpacking libta-lib0 (0.4.0-oneiric1) ...\n",
            "Selecting previously unselected package ta-lib0-dev.\n",
            "Preparing to unpack ta.deb ...\n",
            "Unpacking ta-lib0-dev (0.4.0-oneiric1) ...\n",
            "Setting up libta-lib0 (0.4.0-oneiric1) ...\n",
            "Setting up ta-lib0-dev (0.4.0-oneiric1) ...\n",
            "Processing triggers for man-db (2.8.3-2ubuntu0.1) ...\n",
            "Processing triggers for libc-bin (2.27-3ubuntu1) ...\n",
            "/sbin/ldconfig.real: /usr/local/lib/python3.6/dist-packages/ideep4py/lib/libmkldnn.so.0 is not a symbolic link\n",
            "\n",
            "Collecting ta-lib\n",
            "\u001b[?25l  Downloading https://files.pythonhosted.org/packages/d7/15/ebf1a6ebcf7580dc53e342979c7425affc38ef272bc10a7f4565ee87b394/TA-Lib-0.4.18.tar.gz (265kB)\n",
            "\u001b[K     |████████████████████████████████| 266kB 4.8MB/s \n",
            "\u001b[?25hRequirement already satisfied: numpy in /usr/local/lib/python3.6/dist-packages (from ta-lib) (1.18.4)\n",
            "Building wheels for collected packages: ta-lib\n",
            "  Building wheel for ta-lib (setup.py) ... \u001b[?25l\u001b[?25hdone\n",
            "  Created wheel for ta-lib: filename=TA_Lib-0.4.18-cp36-cp36m-linux_x86_64.whl size=1531816 sha256=5d8f0f8d391970726a8fb087a7e3b67312fb70a263a054e8fa4c8e962b35d0ac\n",
            "  Stored in directory: /root/.cache/pip/wheels/11/cc/88/20dc42c28a07efb297dad4303948ef6dd4a3c7257553db8f09\n",
            "Successfully built ta-lib\n",
            "Installing collected packages: ta-lib\n",
            "Successfully installed ta-lib-0.4.18\n"
          ],
          "name": "stdout"
        }
      ]
    },
    {
      "cell_type": "code",
      "metadata": {
        "id": "syus7IIgUJK_"
      },
      "source": [
        "# import every thing need to bot work\n",
        "import datetime\n",
        "from binance.client import Client\n",
        "import pandas as pd\n",
        "from talib import RSI, MA, BBANDS\n",
        "import numpy as np\n",
        "from tinydb import TinyDB, Query\n",
        "import time\n",
        "import requests"
      ],
      "execution_count": null,
      "outputs": []
    },
    {
      "cell_type": "code",
      "metadata": {
        "id": "HKMXLOYaULQj"
      },
      "source": [
        "# aal symbols for tradiong\n",
        "symbol = [\n",
        "  \"BTCUSDT\",\n",
        "  \"ETHUSDT\",\n",
        "  \"LTCUSDT\",\n",
        "  \"BNBUSDT\",\n",
        "  \"NEOUSDT\",\n",
        "  \"QTUMUSDT\",\n",
        "  \"ADAUSDT\",\n",
        "  \"XRPUSDT\",\n",
        "  \"EOSUSDT\",\n",
        "  \"IOTAUSDT\",\n",
        "  \"XLMUSDT\",\n",
        "  \"ONTUSDT\",\n",
        "  \"TRXUSDT\",\n",
        "  \"ETCUSDT\",\n",
        "  \"ICXUSDT\",\n",
        "  \"NULSUSDT\",\n",
        "  \"VETUSDT\",\n",
        "  \"LINKUSDT\",\n",
        "  \"WAVESUSDT\",\n",
        "  \"BTTUSDT\",\n",
        "  \"ONGUSDT\",\n",
        "  \"HOTUSDT\",\n",
        "  \"ZILUSDT\",\n",
        "  \"ZRXUSDT\",\n",
        "  \"FETUSDT\",\n",
        "  \"BATUSDT\",\n",
        "  \"XMRUSDT\",\n",
        "  \"ZECUSDT\",\n",
        "  \"IOSTUSDT\",\n",
        "  \"CELRUSDT\",\n",
        "  \"DASHUSDT\",\n",
        "  \"NANOUSDT\",\n",
        "  \"OMGUSDT\",\n",
        "  \"THETAUSDT\",\n",
        "  \"ENJUSDT\",\n",
        "  \"MITHUSDT\",\n",
        "  \"MATICUSDT\",\n",
        "  \"ATOMUSDT\",\n",
        "  \"TFUELUSDT\",\n",
        "  \"ONEUSDT\",\n",
        "  \"FTMUSDT\",\n",
        "  \"ALGOUSDT\",\n",
        "  \"GTOUSDT\",\n",
        "  \"ERDUSDT\",\n",
        "  \"DOGEUSDT\",\n",
        "  \"DUSKUSDT\",\n",
        "  \"ANKRUSDT\",\n",
        "  \"WINUSDT\",\n",
        "  \"COSUSDT\",\n",
        "  \"NPXSUSDT\",\n",
        "  \"COCOSUSDT\",\n",
        "  \"MTLUSDT\",\n",
        "  \"TOMOUSDT\",\n",
        "  \"PERLUSDT\",\n",
        "  \"DENTUSDT\",\n",
        "  \"MFTUSDT\",\n",
        "  \"KEYUSDT\",\n",
        "  \"STORMUSDT\",\n",
        "  \"DOCKUSDT\",\n",
        "  \"WANUSDT\",\n",
        "  \"FUNUSDT\",\n",
        "  \"CVCUSDT\",\n",
        "  \"CHZUSDT\",\n",
        "  \"BANDUSDT\",\n",
        "  \"BEAMUSDT\",\n",
        "  \"XTZUSDT\",\n",
        "  \"RENUSDT\",\n",
        "  \"RVNUSDT\",\n",
        "  \"HCUSDT\",\n",
        "  \"HBARUSDT\",\n",
        "  \"NKNUSDT\",\n",
        "  \"STXUSDT\",\n",
        "  \"KAVAUSDT\",\n",
        "  \"ARPAUSDT\",\n",
        "  \"IOTXUSDT\",\n",
        "  \"RLCUSDT\",\n",
        "  \"MCOUSDT\",\n",
        "  \"CTXCUSDT\",\n",
        "  \"BCHUSDT\",\n",
        "  \"TROYUSDT\",\n",
        "  \"VITEUSDT\",\n",
        "  \"FTTUSDT\",\n",
        "  \"OGNUSDT\",\n",
        "  \"DREPUSDT\",\n",
        "  \"TCTUSDT\",\n",
        "  \"WRXUSDT\",\n",
        "  \"BTSUSDT\",\n",
        "  \"LSKUSDT\",\n",
        "  \"BNTUSDT\",\n",
        "  \"LTOUSDT\",\n",
        "  \"STRATUSDT\",\n",
        "  \"AIONUSDT\",\n",
        "  \"MBLUSDT\",\n",
        "  \"COTIUSDT\",\n",
        "  \"STPTUSDT\",\n",
        "  \"WTCUSDT\",\n",
        "  \"DATAUSDT\",\n",
        "  \"XZCUSDT\",\n",
        "]"
      ],
      "execution_count": null,
      "outputs": []
    },
    {
      "cell_type": "code",
      "metadata": {
        "id": "JtHgXuWnUNeo"
      },
      "source": [
        "# telegram bot to send signals\n",
        "def telegram_bot_sendtext(bot_message):\n",
        "\n",
        "    bot_token = ''\n",
        "    bot_chatID = ''\n",
        "    send_text = 'https://api.telegram.org/bot' + bot_token + '/sendMessage?chat_id=' + bot_chatID + '&parse_mode=Markdown&text=' + bot_message\n",
        "\n",
        "    response = requests.get(send_text)\n",
        "\n",
        "    return response.json()"
      ],
      "execution_count": null,
      "outputs": []
    },
    {
      "cell_type": "code",
      "metadata": {
        "id": "tfXWkgfNUPZ2"
      },
      "source": [
        "# api key and api secret\n",
        "api_key = ''\n",
        "api_secret = ''"
      ],
      "execution_count": null,
      "outputs": []
    },
    {
      "cell_type": "code",
      "metadata": {
        "id": "WQYflCAIURIa"
      },
      "source": [
        "# database creation\n",
        "db = TinyDB('db.json')\n",
        "user = Query()\n",
        "for i in symbol:\n",
        "  db.insert({'symbol':i,'rsi':100})"
      ],
      "execution_count": null,
      "outputs": []
    },
    {
      "cell_type": "code",
      "metadata": {
        "id": "XwxnPncDUS9A"
      },
      "source": [
        "# create data and bot\n",
        "def get_data(symbol):\n",
        "  # create pandas dataframe from binance\n",
        "  client = Client(api_key, api_secret)\n",
        "  df = client.get_historical_klines(symbol, Client.KLINE_INTERVAL_5MINUTE, \"1 day ago UTC\")\n",
        "  df = pd.DataFrame(df,columns= ['datetime', 'open', 'high', 'low', 'close', 'volume', 'Close_time','qoute assest volume','number of trades','taker buy base assest volume','taker buy qoute assest volume','ignore'])\n",
        "  df['datetime'] = pd.to_datetime(df['datetime'],unit = 'ms')\n",
        "  df.set_index('datetime',inplace=True)\n",
        "  df.drop(['Close_time','qoute assest volume','number of trades','taker buy base assest volume','taker buy qoute assest volume','ignore'],axis=1,inplace=True)\n",
        "  # candles.drop(candles.tail(1).index,inplace=True)\n",
        "  # candles.drop(candles.head(1).index,inplace=True)\n",
        "  # return df\n",
        "  # candles.to_csv('out.csv')\n",
        "  df = pd.DataFrame(data=df['close'], dtype=np.float64)\n",
        "  # float_data = [float(x) for x in df['close']]\n",
        "  close = df['close'].values\n",
        "  # calculate rsi and moving average\n",
        "  up, mid, low = BBANDS(close, timeperiod=21, nbdevup=2, nbdevdn=2, matype=0)\n",
        "  ma = MA(close, timeperiod=200, matype=0)\n",
        "  rsi = RSI(close, timeperiod=14)\n",
        "  bb_length = len(low)\n",
        "  rsi_length = len(rsi)\n",
        "  ma_length = len(ma)\n",
        "  sell_price = df['close'].tail(1).values + ((df['close'].tail(1).values / 100.00)*1.20)\n",
        "  # if rsi[rsi_length - 1] < 70.00 and :\n",
        "  #   return (rsi[rsi_length - 1])\n",
        "  # calculate and condition for sell and buy\n",
        "  if df['close'].tail(1).values > ma[ma_length - 1]:\n",
        "    if rsi[rsi_length - 1] > 30.00:\n",
        "      if db.get(user.symbol== symbol)['rsi'] < 30.00:\n",
        "        if db.get(user.symbol == symbol)['close'] < db.get(user.symbol == symbol)['bb']:\n",
        "          text = \"{} \\n RSI: {} \\n MA 200: {} \\n price: {} \\n Sell Price: {}\".format(symbol,rsi[rsi_length - 1],ma[ma_length - 1],df['close'].tail(1).values,sell_price)\n",
        "          telegram_bot_sendtext(text)\n",
        "  # db.insert({'symbol':symbol,'rsi':rsi[rsi_length - 1],'bb':low[bb_length - 1]})\n",
        "  # update database for new data\n",
        "  close_update = df['close'].tail(1).to_list()\n",
        "  db.update({'rsi':rsi[rsi_length - 1],'MA 200':ma[ma_length - 1],'close':close_update[0]}, user.symbol == symbol)\n",
        "  # if df['close'].tail(1) < low[bb_length - 1] and rsi[rsi_length - 1] < 30:\n",
        "  #   return(rsi.tail(1))"
      ],
      "execution_count": null,
      "outputs": []
    },
    {
      "cell_type": "code",
      "metadata": {
        "id": "byk81idYVPmM",
        "colab": {
          "base_uri": "https://localhost:8080/",
          "height": 394
        },
        "outputId": "f76755f0-f2e7-4610-e6a2-fa065ec075cb"
      },
      "source": [
        "try:\n",
        "  while True:\n",
        "      for i in symbol:\n",
        "        # print (get_data(i))\n",
        "        get = get_data(i)\n",
        "        if  get is not None:\n",
        "          print (get)\n",
        "  # sleep(250)\n",
        "except ValueError as ve:\n",
        "  print(ve)"
      ],
      "execution_count": null,
      "outputs": [
        {
          "output_type": "error",
          "ename": "KeyError",
          "evalue": "ignored",
          "traceback": [
            "\u001b[0;31m---------------------------------------------------------------------------\u001b[0m",
            "\u001b[0;31mKeyError\u001b[0m                                  Traceback (most recent call last)",
            "\u001b[0;32m<ipython-input-15-7d980035c013>\u001b[0m in \u001b[0;36m<module>\u001b[0;34m()\u001b[0m\n\u001b[1;32m      3\u001b[0m       \u001b[0;32mfor\u001b[0m \u001b[0mi\u001b[0m \u001b[0;32min\u001b[0m \u001b[0msymbol\u001b[0m\u001b[0;34m:\u001b[0m\u001b[0;34m\u001b[0m\u001b[0;34m\u001b[0m\u001b[0m\n\u001b[1;32m      4\u001b[0m         \u001b[0;31m# print (get_data(i))\u001b[0m\u001b[0;34m\u001b[0m\u001b[0;34m\u001b[0m\u001b[0;34m\u001b[0m\u001b[0m\n\u001b[0;32m----> 5\u001b[0;31m         \u001b[0mget\u001b[0m \u001b[0;34m=\u001b[0m \u001b[0mget_data\u001b[0m\u001b[0;34m(\u001b[0m\u001b[0mi\u001b[0m\u001b[0;34m)\u001b[0m\u001b[0;34m\u001b[0m\u001b[0;34m\u001b[0m\u001b[0m\n\u001b[0m\u001b[1;32m      6\u001b[0m         \u001b[0;32mif\u001b[0m  \u001b[0mget\u001b[0m \u001b[0;32mis\u001b[0m \u001b[0;32mnot\u001b[0m \u001b[0;32mNone\u001b[0m\u001b[0;34m:\u001b[0m\u001b[0;34m\u001b[0m\u001b[0;34m\u001b[0m\u001b[0m\n\u001b[1;32m      7\u001b[0m           \u001b[0mprint\u001b[0m \u001b[0;34m(\u001b[0m\u001b[0mget\u001b[0m\u001b[0;34m)\u001b[0m\u001b[0;34m\u001b[0m\u001b[0;34m\u001b[0m\u001b[0m\n",
            "\u001b[0;32m<ipython-input-14-563ce4cac7ef>\u001b[0m in \u001b[0;36mget_data\u001b[0;34m(symbol)\u001b[0m\n\u001b[1;32m     29\u001b[0m     \u001b[0;32mif\u001b[0m \u001b[0mrsi\u001b[0m\u001b[0;34m[\u001b[0m\u001b[0mrsi_length\u001b[0m \u001b[0;34m-\u001b[0m \u001b[0;36m1\u001b[0m\u001b[0;34m]\u001b[0m \u001b[0;34m>\u001b[0m \u001b[0;36m30.00\u001b[0m\u001b[0;34m:\u001b[0m\u001b[0;34m\u001b[0m\u001b[0;34m\u001b[0m\u001b[0m\n\u001b[1;32m     30\u001b[0m       \u001b[0;32mif\u001b[0m \u001b[0mdb\u001b[0m\u001b[0;34m.\u001b[0m\u001b[0mget\u001b[0m\u001b[0;34m(\u001b[0m\u001b[0muser\u001b[0m\u001b[0;34m.\u001b[0m\u001b[0msymbol\u001b[0m\u001b[0;34m==\u001b[0m \u001b[0msymbol\u001b[0m\u001b[0;34m)\u001b[0m\u001b[0;34m[\u001b[0m\u001b[0;34m'rsi'\u001b[0m\u001b[0;34m]\u001b[0m \u001b[0;34m<\u001b[0m \u001b[0;36m30.00\u001b[0m\u001b[0;34m:\u001b[0m\u001b[0;34m\u001b[0m\u001b[0;34m\u001b[0m\u001b[0m\n\u001b[0;32m---> 31\u001b[0;31m         \u001b[0;32mif\u001b[0m \u001b[0mdb\u001b[0m\u001b[0;34m.\u001b[0m\u001b[0mget\u001b[0m\u001b[0;34m(\u001b[0m\u001b[0muser\u001b[0m\u001b[0;34m.\u001b[0m\u001b[0msymbol\u001b[0m \u001b[0;34m==\u001b[0m \u001b[0msymbol\u001b[0m\u001b[0;34m)\u001b[0m\u001b[0;34m[\u001b[0m\u001b[0;34m'close'\u001b[0m\u001b[0;34m]\u001b[0m \u001b[0;34m<\u001b[0m \u001b[0mdb\u001b[0m\u001b[0;34m.\u001b[0m\u001b[0mget\u001b[0m\u001b[0;34m(\u001b[0m\u001b[0muser\u001b[0m\u001b[0;34m.\u001b[0m\u001b[0msymbol\u001b[0m \u001b[0;34m==\u001b[0m \u001b[0msymbol\u001b[0m\u001b[0;34m)\u001b[0m\u001b[0;34m[\u001b[0m\u001b[0;34m'bb'\u001b[0m\u001b[0;34m]\u001b[0m\u001b[0;34m:\u001b[0m\u001b[0;34m\u001b[0m\u001b[0;34m\u001b[0m\u001b[0m\n\u001b[0m\u001b[1;32m     32\u001b[0m           \u001b[0mtext\u001b[0m \u001b[0;34m=\u001b[0m \u001b[0;34m\"{} \\n RSI: {} \\n MA 200: {} \\n price: {} \\n Sell Price: {}\"\u001b[0m\u001b[0;34m.\u001b[0m\u001b[0mformat\u001b[0m\u001b[0;34m(\u001b[0m\u001b[0msymbol\u001b[0m\u001b[0;34m,\u001b[0m\u001b[0mrsi\u001b[0m\u001b[0;34m[\u001b[0m\u001b[0mrsi_length\u001b[0m \u001b[0;34m-\u001b[0m \u001b[0;36m1\u001b[0m\u001b[0;34m]\u001b[0m\u001b[0;34m,\u001b[0m\u001b[0mma\u001b[0m\u001b[0;34m[\u001b[0m\u001b[0mma_length\u001b[0m \u001b[0;34m-\u001b[0m \u001b[0;36m1\u001b[0m\u001b[0;34m]\u001b[0m\u001b[0;34m,\u001b[0m\u001b[0mdf\u001b[0m\u001b[0;34m[\u001b[0m\u001b[0;34m'close'\u001b[0m\u001b[0;34m]\u001b[0m\u001b[0;34m.\u001b[0m\u001b[0mtail\u001b[0m\u001b[0;34m(\u001b[0m\u001b[0;36m1\u001b[0m\u001b[0;34m)\u001b[0m\u001b[0;34m.\u001b[0m\u001b[0mvalues\u001b[0m\u001b[0;34m,\u001b[0m\u001b[0msell_price\u001b[0m\u001b[0;34m)\u001b[0m\u001b[0;34m\u001b[0m\u001b[0;34m\u001b[0m\u001b[0m\n\u001b[1;32m     33\u001b[0m           \u001b[0mtelegram_bot_sendtext\u001b[0m\u001b[0;34m(\u001b[0m\u001b[0mtext\u001b[0m\u001b[0;34m)\u001b[0m\u001b[0;34m\u001b[0m\u001b[0;34m\u001b[0m\u001b[0m\n",
            "\u001b[0;31mKeyError\u001b[0m: 'bb'"
          ]
        }
      ]
    },
    {
      "cell_type": "code",
      "metadata": {
        "id": "anN6kzOsVqiX"
      },
      "source": [],
      "execution_count": null,
      "outputs": []
    }
  ]
}
