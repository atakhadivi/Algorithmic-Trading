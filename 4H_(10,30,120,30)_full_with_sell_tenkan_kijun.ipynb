{
  "nbformat": 4,
  "nbformat_minor": 0,
  "metadata": {
    "colab": {
      "provenance": [],
      "authorship_tag": "ABX9TyMmh81peesJoH1aDRiP8ao7",
      "include_colab_link": true
    },
    "kernelspec": {
      "name": "python3",
      "display_name": "Python 3"
    }
  },
  "cells": [
    {
      "cell_type": "markdown",
      "metadata": {
        "id": "view-in-github",
        "colab_type": "text"
      },
      "source": [
        "<a href=\"https://colab.research.google.com/github/atakhadivi/Algorithmic-Trading/blob/master/4H_(10%2C30%2C120%2C30)_full_with_sell_tenkan_kijun.ipynb\" target=\"_parent\"><img src=\"https://colab.research.google.com/assets/colab-badge.svg\" alt=\"Open In Colab\"/></a>"
      ]
    },
    {
      "cell_type": "code",
      "metadata": {
        "id": "HxRw5iM2_DGd"
      },
      "source": [
        "# !python --version"
      ],
      "execution_count": null,
      "outputs": []
    },
    {
      "cell_type": "code",
      "metadata": {
        "id": "VS_PIfldIb8K"
      },
      "source": [
        "# !pip3 install -q python-binance\n",
        "# !wget https://launchpad.net/~mario-mariomedina/+archive/ubuntu/talib/+files/libta-lib0_0.4.0-oneiric1_amd64.deb -qO libta.deb\n",
        "# !wget https://launchpad.net/~mario-mariomedina/+archive/ubuntu/talib/+files/ta-lib0-dev_0.4.0-oneiric1_amd64.deb -qO ta.deb\n",
        "# !dpkg -i libta.deb ta.deb\n",
        "# !pip install ta-lib"
      ],
      "execution_count": null,
      "outputs": []
    },
    {
      "cell_type": "code",
      "metadata": {
        "id": "__-y2BX6Imbd"
      },
      "source": [
        "import datetime\n",
        "from datetime import date\n",
        "from binance.client import Client\n",
        "import pandas as pd\n",
        "# import talib as ta\n",
        "import numpy as np\n",
        "import time\n",
        "import requests\n",
        "from binance.enums import *\n",
        "from requests import Session\n",
        "import sys"
      ],
      "execution_count": null,
      "outputs": []
    },
    {
      "cell_type": "code",
      "metadata": {
        "id": "8zXtSfE-JqcC"
      },
      "source": [
        "# # api key and api secret\n",
        "# api_key = 'PCX9QWWPbSTDAe4sifwLRZgaSjyGui0Spnrsdhpx9ABJqn2AP6OE7TAdgKI4vUYO'\n",
        "# api_secret = 'hWqF3RyVdqI7WoOhX62qwSZnl3vG30XKmMDHqnNNYtOXmfc59DSBuP2Vs7LCLnGO'"
      ],
      "execution_count": null,
      "outputs": []
    },
    {
      "cell_type": "code",
      "metadata": {
        "id": "SIPZl5yNDjTb"
      },
      "source": [
        "# api key and api secret navid ata_swat@yahoo.com\n",
        "api_key = 'th5CizfxcOc1AjogJ4AHj6VqGXyKoYayCZl9WMAUc1R0sRL8ASl4IwONI28PCokX'\n",
        "api_secret = 'hCO7pfeIrFmXTFFcg3hIkmVSQploXuSCS7nAevIIbU9uAH4cwOGaxfw9cpO4wl2K'"
      ],
      "execution_count": null,
      "outputs": []
    },
    {
      "cell_type": "code",
      "metadata": {
        "id": "L3-LXewq1oRi"
      },
      "source": [
        "# assest_price = 0.2752\n",
        "# stop = assest_price + (assest_price * 0.01)\n",
        "# profit = assest_price - (assest_price * 0.01)\n",
        "# order_stop = client.futures_create_order(\n",
        "#     symbol = \"XRPUSDT\",\n",
        "#     side = \"BUY\",\n",
        "#     type = \"STOP_MARKET\" ,\n",
        "#     closePosition = \"true\",\n",
        "#     stopPrice = price[\"XRPUSDT\"] % stop\n",
        "# )\n",
        "# order_profit = client.futures_create_order(\n",
        "#     symbol = \"XRPUSDT\",\n",
        "#     side = \"BUY\",\n",
        "#     type = \"TAKE_PROFIT_MARKET\" ,\n",
        "#     closePosition = \"true\",\n",
        "#     stopPrice = price[\"XRPUSDT\"] % profit\n",
        "# )"
      ],
      "execution_count": null,
      "outputs": []
    },
    {
      "cell_type": "code",
      "metadata": {
        "id": "mbaOW5giJwHw"
      },
      "source": [
        "symbol_future=[\n",
        "\"BTCUSDT\",\n",
        "\"ETHUSDT\",\n",
        "\"XRPUSDT\",\n",
        "\"ADAUSDT\",\n",
        "\"XLMUSDT\"\n",
        "]"
      ],
      "execution_count": null,
      "outputs": []
    },
    {
      "cell_type": "code",
      "metadata": {
        "id": "TSpQTrAKKcf3"
      },
      "source": [
        "rules={\n",
        "      \"BTCUSDT\":\"%.3f\",\n",
        "      \"ETHUSDT\":\"%.3f\",\n",
        "      \"XRPUSDT\":\"%.1f\",\n",
        "      \"XLMUSDT\":\"%.0f\",\n",
        "      \"ADAUSDT\":\"%.0f\",\n",
        "}"
      ],
      "execution_count": null,
      "outputs": []
    },
    {
      "cell_type": "code",
      "metadata": {
        "id": "DmgrTsXgKu2O"
      },
      "source": [
        "price={\n",
        "      \"BTCUSDT\":\"%.2f\",\n",
        "      \"ETHUSDT\":\"%.2f\",\n",
        "      \"XRPUSDT\":\"%.4f\",\n",
        "      \"XLMUSDT\":\"%.5f\",\n",
        "      \"ADAUSDT\":\"%.5f\",\n",
        " }"
      ],
      "execution_count": null,
      "outputs": []
    },
    {
      "cell_type": "code",
      "metadata": {
        "id": "Mbj7mGxWK1Qc"
      },
      "source": [
        "# telegram bot to send signals\n",
        "def telegram_bot_sendtext(bot_message):\n",
        "\n",
        "    bot_token = '1319235780:AAEJsHck45xOkpjAhnJKi4m0c7RQV3VjWHI'\n",
        "    bot_chatID = '@signalfxcmbinance'\n",
        "    send_text = 'https://api.telegram.org/bot' + bot_token + '/sendMessage?chat_id=' + bot_chatID + '&parse_mode=Markdown&text=' + bot_message\n",
        "#https://api.telegram.org/bot1319235780:AAEJsHck45xOkpjAhnJKi4m0c7RQV3VjWHI/sendMessage?chat_id=@signalfxcmbinance&text=salam\n",
        "    response = requests.get(send_text)\n",
        "\n",
        "    return response.json()"
      ],
      "execution_count": null,
      "outputs": []
    },
    {
      "cell_type": "code",
      "metadata": {
        "id": "0QZtAbhiK3mG"
      },
      "source": [
        "def ichimoku(symbol,hist_time,past):\n",
        "  client = Client(api_key, api_secret)\n",
        "  d = client.get_historical_klines(symbol,hist_time,past)\n",
        "  d = pd.DataFrame(d,columns= ['date', 'open', 'high', 'low', 'close', 'volume', 'Close_time','qoute assest volume','number of trades','taker buy base assest volume','taker buy qoute assest volume','ignore'])\n",
        "  nine_period_high = d['high'].rolling(window= 10).max()\n",
        "  nine_period_low = d['low'].rolling(window= 10).min()\n",
        "  d['tenkan_sen'] = (nine_period_high + nine_period_low) /2\n",
        "  # Kijun-sen (Base Line): (26-period high + 26-period low)/2))\n",
        "  period26_high = d['high'].rolling(window=30).max()\n",
        "  period26_low = d['low'].rolling(window=30).min()\n",
        "  d['kijun_sen'] = (period26_high + period26_low) / 2\n",
        "  # Senkou Span A (Leading Span A): (Conversion Line + Base Line)/2))\n",
        "  d['senkou_span_a'] = ((d['tenkan_sen'] + d['kijun_sen']) / 2).shift(30)\n",
        "  d['senkou_span_a_future'] = ((d['tenkan_sen'] + d['kijun_sen']) / 2)\n",
        "\n",
        "  # Senkou Span B (Leading Span B): (52-period high + 52-period low)/2))\n",
        "  period52_high = d['high'].rolling(window=120).max()\n",
        "  period52_low = d['low'].rolling(window=120).min()\n",
        "  d['senkou_span_b'] = ((period52_high + period52_low) / 2).shift(30)\n",
        "  d['senkou_span_b_future'] = ((period52_high + period52_low) / 2)\n",
        "\n",
        "  # The most current closing price plotted 26 time periods behind (optional)\n",
        "  d['chikou_span'] = d['close'].shift(-30)\n",
        "  d = pd.DataFrame(data=d, dtype=np.float64)\n",
        "  open = d['open'].values\n",
        "  close = d['close'].values\n",
        "  high = d['high'].values\n",
        "  low = d['low'].values\n",
        "  tenkan_sen = d['tenkan_sen'].values\n",
        "  kijun_sen = d['kijun_sen'].values\n",
        "  senkou_span_a = d['senkou_span_a'].values\n",
        "  senkou_span_a_future = d['senkou_span_a_future'].values\n",
        "  senkou_span_b = d['senkou_span_b'].values\n",
        "  senkou_span_b_future = d['senkou_span_b_future'].values\n",
        "  chikou_span = d['chikou_span'].values\n",
        "  pric = d['close'].values\n",
        "  # print(chikou_span[-27])\n",
        "  return (tenkan_sen,kijun_sen,senkou_span_a,senkou_span_a_future,senkou_span_b,senkou_span_b_future,chikou_span,pric,open,high,low)"
      ],
      "execution_count": null,
      "outputs": []
    },
    {
      "cell_type": "code",
      "metadata": {
        "id": "-ARNVcNuLKuE"
      },
      "source": [
        "client = Client(api_key, api_secret)"
      ],
      "execution_count": null,
      "outputs": []
    },
    {
      "cell_type": "code",
      "metadata": {
        "id": "FVgQjHlSLM2j"
      },
      "source": [
        "for i in symbol_future:\n",
        "  # print(i)\n",
        "  milli_sec = time.time() * 1000\n",
        "  sec = int(milli_sec) - 86400000\n",
        "  tenkan_sen,kijun_sen,senkou_span_a,senkou_span_a_future,senkou_span_b,senkou_span_b_future,chikou_span,pric, open, high, low  = ichimoku(i,hist_time=Client.KLINE_INTERVAL_4HOUR,past=\"30 day ago UTC\")\n",
        "  if senkou_span_a_future[-1] > senkou_span_b_future[-1]:\n",
        "    if tenkan_sen[-1] > kijun_sen[-1]:# and tenkan_sen[-2] <= kijun_sen[-2]:\n",
        "      if pric[-1] > senkou_span_a[-1] and pric[-1] > senkou_span_b[-1]:\n",
        "        # print(i,('BUY'))\n",
        "        orders = client.futures_get_open_orders(symbol=i)\n",
        "        if not orders:\n",
        "          # text = \"{} \\n Strong BUY Future Ichimoku 4H ata \\n Price: {}\" .format(i,pric[-1])\n",
        "          text = \"{} \\n Strong BUY Future Ichimoku 4H navid \\n Price: {}\" .format(i,pric[-1])\n",
        "          telegram_bot_sendtext(text)\n",
        "          balance = client.futures_account_balance()\n",
        "          balance = float(balance[0]['balance'])\n",
        "          assest_price = pric[-1]\n",
        "          quantity = 200 / assest_price\n",
        "          take_profit = assest_price + (assest_price * 0.5)\n",
        "          stop_price = assest_price - (assest_price * 0.02)\n",
        "          if (balance > 20):\n",
        "            # margin = client.futures_change_margin_type(\n",
        "            #     symbol = i,\n",
        "            #     marginType = \"ISOLATED\"\n",
        "            # )\n",
        "            leverage = client.futures_change_leverage(\n",
        "                symbol = i,\n",
        "                leverage = 1\n",
        "            )\n",
        "            order_market = client.futures_create_order(\n",
        "                symbol = i,\n",
        "                side = \"BUY\",\n",
        "                type = \"MARKET\",\n",
        "                quantity = rules[i] % float(quantity)\n",
        "            )\n",
        "            order_profit = client.futures_create_order(\n",
        "                symbol = i,\n",
        "                side = \"SELL\",\n",
        "                type = \"TAKE_PROFIT_MARKET\" ,\n",
        "                closePosition = \"true\",\n",
        "                stopPrice = price[i] % float(take_profit)\n",
        "            )\n",
        "            # print(order_profit)\n"
      ],
      "execution_count": null,
      "outputs": []
    },
    {
      "cell_type": "code",
      "metadata": {
        "id": "ZQ71G6W3N9-L"
      },
      "source": [
        "for i in symbol_future:\n",
        "  # print(i)\n",
        "  milli_sec = time.time() * 1000\n",
        "  sec = int(milli_sec) - 86400000\n",
        "  tenkan_sen,kijun_sen,senkou_span_a,senkou_span_a_future,senkou_span_b,senkou_span_b_future,chikou_span,pric, open, high, low  = ichimoku(i,hist_time=Client.KLINE_INTERVAL_4HOUR,past=\"30 day ago UTC\")\n",
        "  if senkou_span_a_future[-1] < senkou_span_b_future[-1]:\n",
        "    if tenkan_sen[-1] < kijun_sen[-1]:# and tenkan_sen[-2] <= kijun_sen[-2]:\n",
        "      if pric[-1] < senkou_span_a[-1] and pric[-1] < senkou_span_b[-1]:\n",
        "        # print(i,('SELL'))\n",
        "        orders = client.futures_get_open_orders(symbol=i)\n",
        "        if not orders:\n",
        "          # text = \"{} \\n Strong SELL Future Ichimoku 4H ata \\n Price: {}\" .format(i,pric[-1])\n",
        "          text = \"{} \\n Strong SELL Future Ichimoku 4H navid \\n Price: {}\" .format(i,pric[-1])\n",
        "          telegram_bot_sendtext(text)\n",
        "          balance = client.futures_account_balance()\n",
        "          balance = float(balance[0]['balance'])\n",
        "          assest_price = pric[-1]\n",
        "          quantity = 200 / assest_price\n",
        "          take_profit = assest_price - (assest_price * 0.5)\n",
        "          stop_price = assest_price - (assest_price * 0.02)\n",
        "          if (balance > 20):\n",
        "            # margin = client.futures_change_margin_type(\n",
        "            #     symbol = i,\n",
        "            #     marginType = \"ISOLATED\"\n",
        "            # )\n",
        "            leverage = client.futures_change_leverage(\n",
        "                symbol = i,\n",
        "                leverage = 1\n",
        "            )\n",
        "            order_market = client.futures_create_order(\n",
        "                symbol = i,\n",
        "                side = \"SELL\",\n",
        "                type = \"MARKET\",\n",
        "                quantity = rules[i] % float(quantity)\n",
        "            )\n",
        "            order_profit = client.futures_create_order(\n",
        "                symbol = i,\n",
        "                side = \"BUY\",\n",
        "                type = \"TAKE_PROFIT_MARKET\" ,\n",
        "                closePosition = \"true\",\n",
        "                stopPrice = price[i] % float(take_profit)\n",
        "            )\n",
        "            # print(order_profit)\n"
      ],
      "execution_count": null,
      "outputs": []
    },
    {
      "cell_type": "code",
      "metadata": {
        "id": "ayjFZkWEPnLA"
      },
      "source": [
        "for i in symbol_future:\n",
        "  # print(i)\n",
        "  orders = client.futures_get_open_orders(symbol=i)\n",
        "  if orders and orders[0]['side'] == 'SELL':\n",
        "    milli_sec = time.time() * 1000\n",
        "    sec = int(milli_sec) - 86400000\n",
        "    tenkan_sen,kijun_sen,senkou_span_a,senkou_span_a_future,senkou_span_b,senkou_span_b_future,chikou_span,pric, open, high, low  = ichimoku(i,hist_time=Client.KLINE_INTERVAL_4HOUR,past=\"30 day ago UTC\")\n",
        "    if tenkan_sen[-1] < kijun_sen[-1] or pric[-1] < senkou_span_a[-1] or pric[-1] < senkou_span_b[-1]:\n",
        "        # print(i,'cancel long kijun tenkan sen')\n",
        "        # text = \"{} \\n kijun tenkan Cancel Long 4H ata \\n Price: {}\" .format(i,pric[-1])\n",
        "        text = \"{} \\n kijun tenkan Cancel Long 4H navid \\n Price: {}\" .format(i,pric[-1])\n",
        "        telegram_bot_sendtext(text)\n",
        "        orders = client.futures_get_open_orders(symbol=i)\n",
        "        orderId = orders[0]['orderId']\n",
        "        cancel = client.futures_cancel_order(symbol = i, orderId = orderId)\n",
        "        assest_price = pric[-1]\n",
        "        stop = assest_price - (assest_price * 0.01)\n",
        "        profit = assest_price + (assest_price * 0.01)\n",
        "        order_stop = client.futures_create_order(\n",
        "            symbol = i,\n",
        "            side = \"SELL\",\n",
        "            type = \"STOP_MARKET\" ,\n",
        "            closePosition = \"true\",\n",
        "            stopPrice = price[i] % stop\n",
        "        )\n",
        "        # order_profit = client.futures_create_order(\n",
        "        #     symbol = i,\n",
        "        #     side  = \"SELL\",\n",
        "        #     type = \"TAKE_PROFIT_MARKET\",\n",
        "        #     closePosition = \"true\",\n",
        "        #     stopPrice = price[i] % profit\n",
        "        # )\n",
        "        # print(order_stop)\n"
      ],
      "execution_count": null,
      "outputs": []
    },
    {
      "cell_type": "code",
      "metadata": {
        "id": "SLYpxBI3T27A"
      },
      "source": [
        "for i in symbol_future:\n",
        "  # print(i)\n",
        "  orders = client.futures_get_open_orders(symbol=i)\n",
        "  if orders and orders[0]['side'] == 'BUY':\n",
        "    milli_sec = time.time() * 1000\n",
        "    sec = int(milli_sec) - 86400000\n",
        "    tenkan_sen,kijun_sen,senkou_span_a,senkou_span_a_future,senkou_span_b,senkou_span_b_future,chikou_span,pric, open, high, low  = ichimoku(i,hist_time=Client.KLINE_INTERVAL_4HOUR,past=\"30 day ago UTC\")\n",
        "    if tenkan_sen[-1] > kijun_sen[-1] or pric[-1] > senkou_span_a[-1] or pric[-1] > senkou_span_b[-1]:\n",
        "        # print(i,'cancel long kijun tenkan sen')\n",
        "        # text = \"{} \\n kijun tenkan Cancel Long 4H ata \\n Price: {}\" .format(i,pric[-1])\n",
        "        text = \"{} \\n kijun tenkan Cancel Long 4H navid \\n Price: {}\" .format(i,pric[-1])\n",
        "        telegram_bot_sendtext(text)\n",
        "        orders = client.futures_get_open_orders(symbol=i)\n",
        "        orderId = orders[0]['orderId']\n",
        "        cancel = client.futures_cancel_order(symbol = i, orderId = orderId)\n",
        "        assest_price = pric[-1]\n",
        "        stop = assest_price + (assest_price * 0.01)\n",
        "        profit = assest_price - (assest_price * 0.01)\n",
        "        order_stop = client.futures_create_order(\n",
        "            symbol = i,\n",
        "            side = \"BUY\",\n",
        "            type = \"STOP_MARKET\" ,\n",
        "            closePosition = \"true\",\n",
        "            stopPrice = price[i] % stop\n",
        "        )\n",
        "        # order_profit = client.futures_create_order(\n",
        "        #     symbol = i,\n",
        "        #     side = \"BUY\",\n",
        "        #     type = \"TAKE_PROFIT\" ,\n",
        "        #     closePosition = \"true\",\n",
        "        #     stopPrice = price[i] % profit\n",
        "        # )\n",
        "        # print(order_stop)\n"
      ],
      "execution_count": null,
      "outputs": []
    },
    {
      "cell_type": "code",
      "metadata": {
        "id": "J0jMKdU8T73n"
      },
      "source": [
        "# orders = client.futures_position_information(symbol=\"ETHUSDT\")\n",
        "# if float(orders[0]['isolatedMargin']) > 1:\n",
        "#   print(orders)"
      ],
      "execution_count": null,
      "outputs": []
    },
    {
      "cell_type": "code",
      "metadata": {
        "id": "lBxD2TnQXYwr"
      },
      "source": [
        "# for i in symbol_future:\n",
        "#   margin = client.futures_change_margin_type(\n",
        "#       symbol = i,\n",
        "#       marginType = \"ISOLATED\"\n",
        "#   )"
      ],
      "execution_count": null,
      "outputs": []
    },
    {
      "cell_type": "code",
      "metadata": {
        "id": "nzdAKZuRaRHM"
      },
      "source": [],
      "execution_count": null,
      "outputs": []
    }
  ]
}