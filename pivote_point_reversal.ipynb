{
  "nbformat": 4,
  "nbformat_minor": 0,
  "metadata": {
    "colab": {
      "provenance": [],
      "authorship_tag": "ABX9TyOynufRbmMPTnM2l0yFn2UJ",
      "include_colab_link": true
    },
    "kernelspec": {
      "name": "python3",
      "display_name": "Python 3"
    }
  },
  "cells": [
    {
      "cell_type": "markdown",
      "metadata": {
        "id": "view-in-github",
        "colab_type": "text"
      },
      "source": [
        "<a href=\"https://colab.research.google.com/github/atakhadivi/Algorithmic-Trading/blob/master/pivote_point_reversal.ipynb\" target=\"_parent\"><img src=\"https://colab.research.google.com/assets/colab-badge.svg\" alt=\"Open In Colab\"/></a>"
      ]
    },
    {
      "cell_type": "code",
      "metadata": {
        "id": "ynz6bl3lBQMj"
      },
      "source": [
        "!pip3 install -q python-binance"
      ],
      "execution_count": null,
      "outputs": []
    },
    {
      "cell_type": "code",
      "metadata": {
        "id": "joV6jcpzwUTX"
      },
      "source": [
        "import datetime\n",
        "from time import sleep\n",
        "from binance.client import Client\n",
        "import pandas as pd\n"
      ],
      "execution_count": null,
      "outputs": []
    },
    {
      "cell_type": "code",
      "metadata": {
        "id": "Z9Y7Sjh1xGRf"
      },
      "source": [
        "api_key = ''\n",
        "api_secret = ''"
      ],
      "execution_count": null,
      "outputs": []
    },
    {
      "cell_type": "code",
      "metadata": {
        "id": "SJSBF-UNxbP3"
      },
      "source": [
        "client = Client(api_key, api_secret)\n",
        "candles = client.get_historical_klines(\"BTCUSDT\", Client.KLINE_INTERVAL_1HOUR, \"30 day ago UTC\")\n",
        "candles = pd.DataFrame(candles,columns= ['Date', 'Open', 'High', 'Low', 'Close', 'Volume', 'Close_time','qoute assest volume','number of trades','taker buy base assest volume','taker buy qoute assest volume','ignore'])\n",
        "candles['Date'] = pd.to_datetime(candles['Date'],unit = 'ms')\n",
        "candles.set_index('Date',inplace=True)\n",
        "candles.drop(['Close_time','qoute assest volume','number of trades','taker buy base assest volume','taker buy qoute assest volume','ignore'],axis=1,inplace=True)\n",
        "# candles.drop(candles.tail(1).index,inplace=True)\n",
        "candles.drop(candles.head(1).index,inplace=True)\n",
        "candles"
      ],
      "execution_count": null,
      "outputs": []
    },
    {
      "cell_type": "code",
      "metadata": {
        "id": "Z1AoooW2xzOC"
      },
      "source": [
        "lowest = candles.drop(candles.tail(1).index)['Low'].min()\n"
      ],
      "execution_count": null,
      "outputs": []
    },
    {
      "cell_type": "code",
      "metadata": {
        "id": "2TAS0_I6KssU"
      },
      "source": [
        "highest = candles.drop(candles.tail(1).index)[\"High\"].max()\n"
      ],
      "execution_count": null,
      "outputs": []
    },
    {
      "cell_type": "code",
      "metadata": {
        "id": "LJqengD4GWWR"
      },
      "source": [
        "close = candles.loc[candles.index[-1], \"Close\"]\n"
      ],
      "execution_count": null,
      "outputs": []
    },
    {
      "cell_type": "code",
      "metadata": {
        "id": "o76G0oKCMdel"
      },
      "source": [
        "if(highest <= close):\n",
        "  print(\"Buy Btc\")"
      ],
      "execution_count": null,
      "outputs": []
    },
    {
      "cell_type": "code",
      "metadata": {
        "id": "z0lAG4GMLAjc"
      },
      "source": [
        "if (lowest >= close):\n",
        "  print(\"Sell Btc\")"
      ],
      "execution_count": null,
      "outputs": []
    }
  ]
}