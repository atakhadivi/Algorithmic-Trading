{
  "nbformat": 4,
  "nbformat_minor": 0,
  "metadata": {
    "colab": {
      "provenance": [],
      "include_colab_link": true
    },
    "kernelspec": {
      "name": "python3",
      "display_name": "Python 3"
    }
  },
  "cells": [
    {
      "cell_type": "markdown",
      "metadata": {
        "id": "view-in-github",
        "colab_type": "text"
      },
      "source": [
        "<a href=\"https://colab.research.google.com/github/atakhadivi/Algorithmic-Trading/blob/master/TheBigThreeTradingStrategy.ipynb\" target=\"_parent\"><img src=\"https://colab.research.google.com/assets/colab-badge.svg\" alt=\"Open In Colab\"/></a>"
      ]
    },
    {
      "cell_type": "code",
      "metadata": {
        "id": "qsYxUQozc9Il"
      },
      "source": [
        "# !pip3 install -q python-binance\n",
        "# !wget https://launchpad.net/~mario-mariomedina/+archive/ubuntu/talib/+files/libta-lib0_0.4.0-oneiric1_amd64.deb -qO libta.deb\n",
        "# !wget https://launchpad.net/~mario-mariomedina/+archive/ubuntu/talib/+files/ta-lib0-dev_0.4.0-oneiric1_amd64.deb -qO ta.deb\n",
        "# !dpkg -i libta.deb ta.deb\n",
        "# !pip install ta-lib"
      ],
      "execution_count": null,
      "outputs": []
    },
    {
      "cell_type": "code",
      "metadata": {
        "id": "EUj_tPchkixb"
      },
      "source": [
        "# import every thing need to bot work\n",
        "import datetime\n",
        "from datetime import date\n",
        "from binance.client import Client\n",
        "import pandas as pd\n",
        "import talib as ta\n",
        "import numpy as np\n",
        "# from tinydb import TinyDB, Query\n",
        "import time\n",
        "import requests\n",
        "from binance.enums import *\n",
        "from requests import Session\n",
        "import sys"
      ],
      "execution_count": null,
      "outputs": []
    },
    {
      "cell_type": "code",
      "metadata": {
        "id": "TSl9ep4jk2bp"
      },
      "source": [
        "# api key and api secret soheil\n",
        "api_key = 'DyYrVpqc5Indls38q99ZrypH4ZoBT64tXo4z0OaPaMKOhI8uT6YBO0iLUXckuAp3'\n",
        "api_secret = 'MWXC5bu12vYLob8hxypKvnjZ2BPdRJyeg3oRQuCnp0vb7fevSnpoUcktbQiSn3Xk'"
      ],
      "execution_count": null,
      "outputs": []
    },
    {
      "cell_type": "code",
      "metadata": {
        "id": "w3h9DApHlcD6"
      },
      "source": [
        "# all symbols for tradiong\n",
        "symbol = [\n",
        "  \"BTCUSDT\",\n",
        "  \"ETHUSDT\",\n",
        "  \"LTCUSDT\",\n",
        "  \"BNBUSDT\",\n",
        "  \"NEOUSDT\",\n",
        "  \"QTUMUSDT\",\n",
        "  \"ADAUSDT\",\n",
        "  \"XRPUSDT\",\n",
        "  \"EOSUSDT\",\n",
        "  \"IOTAUSDT\",\n",
        "  \"XLMUSDT\",\n",
        "  \"ONTUSDT\",\n",
        "  \"TRXUSDT\",\n",
        "  \"ETCUSDT\",\n",
        "  \"ICXUSDT\",\n",
        "  \"NULSUSDT\",\n",
        "  \"VETUSDT\",\n",
        "  \"LINKUSDT\",\n",
        "  \"WAVESUSDT\",\n",
        "  \"BTTUSDT\",\n",
        "  \"ONGUSDT\",\n",
        "  \"HOTUSDT\",\n",
        "  \"ZILUSDT\",\n",
        "  \"ZRXUSDT\",\n",
        "  \"FETUSDT\",\n",
        "  \"BATUSDT\",\n",
        "  \"XMRUSDT\",\n",
        "  \"ZECUSDT\",\n",
        "  \"IOSTUSDT\",\n",
        "  \"CELRUSDT\",\n",
        "  \"DASHUSDT\",\n",
        "  \"NANOUSDT\",\n",
        "  \"OMGUSDT\",\n",
        "  \"THETAUSDT\",\n",
        "  \"ENJUSDT\",\n",
        "  \"MITHUSDT\",\n",
        "  \"MATICUSDT\",\n",
        "  \"ATOMUSDT\",\n",
        "  \"TFUELUSDT\",\n",
        "  \"ONEUSDT\",\n",
        "  \"FTMUSDT\",\n",
        "  \"ALGOUSDT\",\n",
        "  \"GTOUSDT\",\n",
        "  # \"ERDUSDT\",\n",
        "  \"DOGEUSDT\",\n",
        "  \"DUSKUSDT\",\n",
        "  \"ANKRUSDT\",\n",
        "  \"WINUSDT\",\n",
        "  \"COSUSDT\",\n",
        "  \"NPXSUSDT\",\n",
        "  \"COCOSUSDT\",\n",
        "  \"MTLUSDT\",\n",
        "  \"TOMOUSDT\",\n",
        "  \"PERLUSDT\",\n",
        "  \"DENTUSDT\",\n",
        "  \"MFTUSDT\",\n",
        "  \"KEYUSDT\",\n",
        "  # \"STORMUSDT\",\n",
        "  \"DOCKUSDT\",\n",
        "  \"WANUSDT\",\n",
        "  \"FUNUSDT\",\n",
        "  \"CVCUSDT\",\n",
        "  \"CHZUSDT\",\n",
        "  \"BANDUSDT\",\n",
        "  \"BEAMUSDT\",\n",
        "  \"XTZUSDT\",\n",
        "  \"RENUSDT\",\n",
        "  \"RVNUSDT\",\n",
        "  \"HCUSDT\",\n",
        "  \"HBARUSDT\",\n",
        "  \"NKNUSDT\",\n",
        "  \"STXUSDT\",\n",
        "  \"KAVAUSDT\",\n",
        "  \"ARPAUSDT\",\n",
        "  \"IOTXUSDT\",\n",
        "  \"RLCUSDT\",\n",
        "  \"MCOUSDT\",\n",
        "  \"CTXCUSDT\",\n",
        "  \"BCHUSDT\",\n",
        "  \"TROYUSDT\",\n",
        "  \"VITEUSDT\",\n",
        "  \"FTTUSDT\",\n",
        "  \"OGNUSDT\",\n",
        "  \"DREPUSDT\",\n",
        "  \"TCTUSDT\",\n",
        "  \"WRXUSDT\",\n",
        "  \"BTSUSDT\",\n",
        "  \"LSKUSDT\",\n",
        "  \"BNTUSDT\",\n",
        "  \"LTOUSDT\",\n",
        "  \"STRATUSDT\",\n",
        "  \"AIONUSDT\",\n",
        "  \"MBLUSDT\",\n",
        "  \"COTIUSDT\",\n",
        "  \"STPTUSDT\",\n",
        "  \"WTCUSDT\",\n",
        "  \"DATAUSDT\",\n",
        "  \"XZCUSDT\",\n",
        "]"
      ],
      "execution_count": null,
      "outputs": []
    },
    {
      "cell_type": "code",
      "metadata": {
        "id": "Jbihe20wljz1"
      },
      "source": [
        "# telegram bot to send signals\n",
        "def telegram_bot_sendtext(bot_message):\n",
        "\n",
        "    bot_token = '1319235780:AAEJsHck45xOkpjAhnJKi4m0c7RQV3VjWHI'\n",
        "    bot_chatID = '@signalfxcmbinance'\n",
        "    send_text = 'https://api.telegram.org/bot' + bot_token + '/sendMessage?chat_id=' + bot_chatID + '&parse_mode=Markdown&text=' + bot_message\n",
        "#https://api.telegram.org/bot1319235780:AAEJsHck45xOkpjAhnJKi4m0c7RQV3VjWHI/sendMessage?chat_id=@signalfxcmbinance&text=salam\n",
        "    response = requests.get(send_text)\n",
        "\n",
        "    return response.json()"
      ],
      "execution_count": null,
      "outputs": []
    },
    {
      "cell_type": "code",
      "metadata": {
        "id": "eD1YzxbIlmpm"
      },
      "source": [
        "\n",
        "def cci():\n",
        "  session = Session()\n",
        "\n",
        "  # HEAD requests ask for *just* the headers, which is all you need to grab the\n",
        "  # session cookie\n",
        "  session.head('https://cci30.com/')\n",
        "\n",
        "  response = session.post(\n",
        "      url='https://cci30.com/ajax/getConstituentsDivProd.php',\n",
        "      headers={\n",
        "          'Accept':\n",
        "          '*/*',\n",
        "          'Accept-Encoding':\n",
        "          'gzip, deflate, br',\n",
        "          'Accept-Language':\n",
        "          'en-US,en;q=0.9,fa;q=0.8',\n",
        "          'Connection':\n",
        "          'keep-alive',\n",
        "          'Cookie':\n",
        "          '_ga=GA1.2.1811726293.1572596970; _gid=GA1.2.1592041821.1572596970; SSID_cci30=1362904212672; SV_cci30=1572596966000; SN_cci30=0%G%G1%G1572596966000%G1572596966000%G',\n",
        "          'Host':\n",
        "          'cci30.com',\n",
        "          'Referer':\n",
        "          'https://cci30.com/',\n",
        "          'Sec-Fetch-Mode':\n",
        "          'cors',\n",
        "          'Sec-Fetch-Site':\n",
        "          'same-origin',\n",
        "          'User-Agent':\n",
        "          'Mozilla/5.0 (Windows NT 10.0; Win64; x64) AppleWebKit/537.36 (KHTML, like Gecko) Chrome/78.0.3904.70 Safari/537.36',\n",
        "          'X-Requested-With':\n",
        "          'XMLHttpRequest'\n",
        "      })\n",
        "\n",
        "  cci.numcci = float(response.json()['cci30DayDiffDiv'][0:5])\n",
        "  return(cci.numcci)\n"
      ],
      "execution_count": null,
      "outputs": []
    },
    {
      "cell_type": "code",
      "metadata": {
        "id": "ls3geroNlpTC"
      },
      "source": [
        "cci30 = cci()"
      ],
      "execution_count": null,
      "outputs": []
    },
    {
      "cell_type": "code",
      "metadata": {
        "id": "3pQQcdIelr85"
      },
      "source": [
        "def binance_data(symbol,hist_time,past):\n",
        "  client = Client(api_key, api_secret)\n",
        "  df = client.get_historical_klines(symbol, hist_time, past)\n",
        "  df = pd.DataFrame(df,columns= ['datetime', 'open', 'high', 'low', 'close', 'volume', 'Close_time','qoute assest volume','number of trades','taker buy base assest volume','taker buy qoute assest volume','ignore'])\n",
        "  df['datetime'] = pd.to_datetime(df['datetime'],unit = 'ms')\n",
        "  df.set_index('datetime',inplace=True)\n",
        "  df = pd.DataFrame(data=df, dtype=np.float64)\n",
        "  open = df['open'].values\n",
        "  open_length = len(open)\n",
        "  close = df['close'].values\n",
        "  close_length = len(close)\n",
        "  high = df['high'].values\n",
        "  high_length = len(high)\n",
        "  low = df['low'].values\n",
        "  low_length = len(low)\n",
        "  volume = df['volume'].values\n",
        "  volume_length = len(volume)\n",
        "  return open,close,high,low,volume"
      ],
      "execution_count": null,
      "outputs": []
    },
    {
      "cell_type": "code",
      "metadata": {
        "id": "pgfZ17Zsl6kW"
      },
      "source": [
        "for i in symbol:\n",
        "#get daily data\n",
        "  #for 5 minute\n",
        "  milli_sec = time.time() * 1000\n",
        "  sec = int(milli_sec) - 86400000\n",
        "  client = Client(api_key, api_secret)\n",
        "  # open5, close5, high5, low5, volume5 = binance_data(i,hist_time=Client.KLINE_INTERVAL_5MINUTE,past=\"1 day ago UTC\")\n",
        "  open, close, high, low, volume = binance_data(i,hist_time=Client.KLINE_INTERVAL_1HOUR,past=\"5 day ago UTC\")\n",
        "  ma20 = ta.MA(close, timeperiod=20, matype=0)\n",
        "  ma40 = ta.MA(close, timeperiod=40, matype=0)\n",
        "  ma80 = ta.MA(close, timeperiod=80, matype=0)\n",
        "  price = close[-1]\n",
        "  if cci30 > 0 and low[-1] > ma20[-1] and low[-1] > ma40[-1] and low[-1] > ma80[-1] and high[-1] > ma20[-1] and high[-1] > ma40[-1] and high[-1] > ma80[-1] and close[-2] < open[-2] and close[-1] > open[-1]:\n",
        "    print(i,'buy','three big ma')\n",
        "    text = \"{} \\n buy big three MA \\n Price: {}\".format(i,price)\n",
        "    telegram_bot_sendtext(text)\n",
        "  if cci30 < 0 and low[-1] < ma20[-1] and low[-1] < ma40[-1] and low[-1] < ma80[-1] and high[-1] < ma20[-1] and high[-1] < ma40[-1] and high[-1] < ma80[-1] and close[-2] > open[-2] and close[-1] < open[-1]:\n",
        "    print(i,'sell','three big ma')\n",
        "    text = \"{} \\n sell big three MA \\n Price: {}\".format(i,price)\n",
        "    telegram_bot_sendtext(text)"
      ],
      "execution_count": null,
      "outputs": []
    },
    {
      "cell_type": "code",
      "metadata": {
        "id": "WsaFFQ92rS-p"
      },
      "source": [],
      "execution_count": null,
      "outputs": []
    }
  ]
}