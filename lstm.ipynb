{
  "nbformat": 4,
  "nbformat_minor": 0,
  "metadata": {
    "colab": {
      "provenance": [],
      "authorship_tag": "ABX9TyO1Ezkg4dFFGKMy8fyyJvOp",
      "include_colab_link": true
    },
    "kernelspec": {
      "name": "python3",
      "display_name": "Python 3"
    }
  },
  "cells": [
    {
      "cell_type": "markdown",
      "metadata": {
        "id": "view-in-github",
        "colab_type": "text"
      },
      "source": [
        "<a href=\"https://colab.research.google.com/github/atakhadivi/Algorithmic-Trading/blob/master/lstm.ipynb\" target=\"_parent\"><img src=\"https://colab.research.google.com/assets/colab-badge.svg\" alt=\"Open In Colab\"/></a>"
      ]
    },
    {
      "cell_type": "code",
      "metadata": {
        "id": "4FRBk4UM2Dj_"
      },
      "source": [
        "!pip3 install -q python-binance"
      ],
      "execution_count": null,
      "outputs": []
    },
    {
      "cell_type": "code",
      "metadata": {
        "id": "B0vh6tfodCAW"
      },
      "source": [
        "import datetime\n",
        "from binance.client import Client\n",
        "import pandas as pd\n",
        "import numpy as np\n",
        "import matplotlib.pyplot as plt"
      ],
      "execution_count": null,
      "outputs": []
    },
    {
      "cell_type": "code",
      "metadata": {
        "id": "aJUvyEI_eFJ1"
      },
      "source": [
        "# api key and api secret\n",
        "api_key = 'ihffj4Q8KBG1NQc8bf6xFjxT9u9b8aZhLXiPFlC0oHXnhzBR6WrnYZwrfkjcoAC0'\n",
        "api_secret = 'WHcTmbFI5xDCBcXwh9YY5D8UZ0hh4qYYvjuOKcCXfkUr8BAcccBtgRaev2mJTDoV'"
      ],
      "execution_count": null,
      "outputs": []
    },
    {
      "cell_type": "code",
      "metadata": {
        "id": "9URy1Z3IdO7w"
      },
      "source": [
        "client = Client(api_key, api_secret)\n",
        "df = client.get_historical_klines(\"BTCUSDT\", Client.KLINE_INTERVAL_1DAY, \"24 Jun, 2018\", \"24 Jun, 2020\")\n",
        "df = pd.DataFrame(df,columns= ['Date', 'open', 'high', 'low', 'close', 'volume', 'Close_time','qoute assest volume','number of trades','taker buy base assest volume','taker buy qoute assest volume','ignore'])\n",
        "df['Date'] = pd.to_datetime(df['Date'],unit = 'ms')\n",
        "df.set_index('Date',inplace=True)\n",
        "df.drop(['Close_time','qoute assest volume','number of trades','taker buy base assest volume','taker buy qoute assest volume','ignore'],axis=1,inplace=True)\n",
        "# candles.drop(candles.tail(1).index,inplace=True)\n",
        "# candles.drop(candles.head(1).index,inplace=True)\n",
        "# return df\n",
        "df.to_csv('binance.csv')"
      ],
      "execution_count": null,
      "outputs": []
    },
    {
      "cell_type": "code",
      "metadata": {
        "id": "2r4lEAvWeCmd"
      },
      "source": [
        "import numpy as np\n",
        "import pandas as pd\n",
        "import matplotlib.pyplot as plt\n",
        "import seaborn as sns\n",
        "sns.set(style=\"darkgrid\", font_scale=1.5)\n",
        "%matplotlib inline"
      ],
      "execution_count": null,
      "outputs": []
    },
    {
      "cell_type": "code",
      "metadata": {
        "id": "muVRdbd3fhpd"
      },
      "source": [
        "df = pd.read_csv(\"binance.csv\", parse_dates=[\"Date\"], index_col=\"Date\")\n",
        "df.shape\n",
        "# df.head()"
      ],
      "execution_count": null,
      "outputs": []
    },
    {
      "cell_type": "code",
      "metadata": {
        "id": "JvSMyN4LhHio"
      },
      "source": [
        "plt.figure(figsize=(12,6))\n",
        "sns.lineplot(x=df.index, y=\"open\", data=df).set_title(\"Price of BTC\")"
      ],
      "execution_count": null,
      "outputs": []
    },
    {
      "cell_type": "code",
      "metadata": {
        "id": "Sf2bSN7shgY5"
      },
      "source": [
        "df.resample('10D').mean().plot(figsize=(12,6))\n",
        "plt.figtext(.5,0.9,\"Down-sampled to 10-day periods\", fontsize=20, ha='center')"
      ],
      "execution_count": null,
      "outputs": []
    },
    {
      "cell_type": "code",
      "metadata": {
        "id": "KRfFz_VYrEHx"
      },
      "source": [
        "data = df.iloc[:, 0]\n",
        "hist = []\n",
        "target = []\n",
        "length = 700\n",
        "for i in range(len(data)-length):\n",
        "    x = data[i:i+length]\n",
        "    y = data[i+length]\n",
        "    hist.append(x)\n",
        "    target.append(y)"
      ],
      "execution_count": null,
      "outputs": []
    },
    {
      "cell_type": "code",
      "metadata": {
        "id": "-0vSsTbhvKYI",
        "colab": {
          "base_uri": "https://localhost:8080/"
        },
        "outputId": "2af98a94-524e-444b-a58e-b6f5bb6d1c6f"
      },
      "source": [
        "print(hist[1][699])\n"
      ],
      "execution_count": null,
      "outputs": [
        {
          "output_type": "stream",
          "text": [
            "9179.01\n"
          ],
          "name": "stdout"
        }
      ]
    },
    {
      "cell_type": "code",
      "metadata": {
        "id": "t_Ha90z6rJma"
      },
      "source": [
        "hist = np.array(hist)\n",
        "target = np.array(target)\n",
        "target = target.reshape(-1,1)"
      ],
      "execution_count": null,
      "outputs": []
    },
    {
      "cell_type": "code",
      "metadata": {
        "id": "fUrGzSKqvY60",
        "colab": {
          "base_uri": "https://localhost:8080/"
        },
        "outputId": "d9add97f-f2db-4a29-bb92-cbcc3cc4fb84"
      },
      "source": [
        "target.shape"
      ],
      "execution_count": null,
      "outputs": [
        {
          "output_type": "execute_result",
          "data": {
            "text/plain": [
              "(32, 1)"
            ]
          },
          "metadata": {
            "tags": []
          },
          "execution_count": 28
        }
      ]
    },
    {
      "cell_type": "code",
      "metadata": {
        "id": "Jl7Pv-zhrhPU"
      },
      "source": [
        "from sklearn.preprocessing import MinMaxScaler\n",
        "sc = MinMaxScaler()\n",
        "hist_scaled = sc.fit_transform(hist)\n",
        "target_scaled = sc.fit_transform(target)"
      ],
      "execution_count": null,
      "outputs": []
    },
    {
      "cell_type": "code",
      "metadata": {
        "id": "EkHcHV2croNU",
        "colab": {
          "base_uri": "https://localhost:8080/"
        },
        "outputId": "135b7d4a-6590-4bb2-99f0-294afed6249c"
      },
      "source": [
        "hist_scaled = hist_scaled.reshape((len(hist_scaled), length, 1))\n",
        "print(hist_scaled.shape)"
      ],
      "execution_count": null,
      "outputs": [
        {
          "output_type": "stream",
          "text": [
            "(32, 700, 1)\n"
          ],
          "name": "stdout"
        }
      ]
    },
    {
      "cell_type": "code",
      "metadata": {
        "id": "ZskUs3_er0qS"
      },
      "source": [
        "X_train = hist_scaled[:30,:,:]\n",
        "X_test = hist_scaled[30:,:,:]\n",
        "y_train = target_scaled[:30,:]\n",
        "y_test = target_scaled[30:,:]"
      ],
      "execution_count": null,
      "outputs": []
    },
    {
      "cell_type": "code",
      "metadata": {
        "id": "1oTIS8YMr5iq"
      },
      "source": [
        "from tensorflow.python.keras.layers import Input, Dense\n",
        "from tensorflow.python.keras.models import Sequential"
      ],
      "execution_count": null,
      "outputs": []
    },
    {
      "cell_type": "code",
      "metadata": {
        "id": "-fXV_uyPr7-6"
      },
      "source": [
        "model = tf.keras.Sequential()\n",
        "model.add(layers.LSTM(units=32, return_sequences=True,\n",
        "                  input_shape=(90,1), dropout=0.2))\n",
        "model.add(layers.LSTM(units=32, return_sequences=True,\n",
        "                  dropout=0.2))\n",
        "model.add(layers.LSTM(units=32, dropout=0.2))\n",
        "model.add(layers.Dense(units=1))\n",
        "model.summary()"
      ],
      "execution_count": null,
      "outputs": []
    },
    {
      "cell_type": "code",
      "metadata": {
        "id": "BB-9ZqM3r-by"
      },
      "source": [
        "model.compile(optimizer='adam', loss='mean_squared_error')\n"
      ],
      "execution_count": null,
      "outputs": []
    },
    {
      "cell_type": "code",
      "metadata": {
        "id": "QsuQjx8MsC9a"
      },
      "source": [
        "history = model.fit(X_train, y_train, epochs=60, batch_size=32)\n"
      ],
      "execution_count": null,
      "outputs": []
    },
    {
      "cell_type": "code",
      "metadata": {
        "id": "UVIXnPMssFK6"
      },
      "source": [
        "loss = history.history['loss']\n",
        "epoch_count = range(1, len(loss) + 1)\n",
        "plt.figure(figsize=(12,8))\n",
        "plt.plot(epoch_count, loss, 'r--')\n",
        "plt.legend(['Training Loss'])\n",
        "plt.xlabel('Epoch')\n",
        "plt.ylabel('Loss')\n",
        "plt.show();"
      ],
      "execution_count": null,
      "outputs": []
    },
    {
      "cell_type": "code",
      "metadata": {
        "id": "VS4kI96isbbK"
      },
      "source": [
        "pred = model.predict(X_test)\n",
        "plt.figure(figsize=(12,8))\n",
        "plt.plot(y_test, color='blue', label='Real')\n",
        "plt.plot(pred, color='red', label='Prediction')\n",
        "plt.title('BTC Price Prediction')\n",
        "plt.legend()\n",
        "plt.show()"
      ],
      "execution_count": null,
      "outputs": []
    },
    {
      "cell_type": "code",
      "metadata": {
        "id": "PRK9gEM8U9s0"
      },
      "source": [
        "!pip install tensorflow"
      ],
      "execution_count": null,
      "outputs": []
    },
    {
      "cell_type": "code",
      "metadata": {
        "id": "rhHf6l_SHIZ2"
      },
      "source": [
        "!pip install keras"
      ],
      "execution_count": null,
      "outputs": []
    },
    {
      "cell_type": "code",
      "metadata": {
        "id": "-aL7ysa2HLe1"
      },
      "source": [
        "!pip install seaborn"
      ],
      "execution_count": null,
      "outputs": []
    },
    {
      "cell_type": "code",
      "metadata": {
        "id": "MrzGLiy6HOF3"
      },
      "source": [
        "!pip install alpha_vantage"
      ],
      "execution_count": null,
      "outputs": []
    },
    {
      "cell_type": "code",
      "metadata": {
        "id": "o0cTpK4iHQrl"
      },
      "source": [
        "%tensorflow_version 2.x\n",
        "import json\n",
        "import requests\n",
        "from keras.models import Sequential\n",
        "from keras.layers import Activation, Dense, LSTM\n",
        "import numpy as np\n",
        "import pandas as pd\n",
        "import seaborn as sns\n",
        "from sklearn.metrics import mean_absolute_error\n",
        "import pandas.util.testing as tm\n",
        "import matplotlib.pyplot as plt\n",
        "%matplotlib inline"
      ],
      "execution_count": null,
      "outputs": []
    },
    {
      "cell_type": "code",
      "metadata": {
        "id": "G-ovafgZH3KA"
      },
      "source": [],
      "execution_count": null,
      "outputs": []
    }
  ]
}